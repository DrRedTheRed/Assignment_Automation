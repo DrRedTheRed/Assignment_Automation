{
 "cells": [
  {
   "cell_type": "code",
   "execution_count": null,
   "metadata": {},
   "outputs": [
    {
     "ename": "ModuleNotFoundError",
     "evalue": "No module named 'numpy'",
     "output_type": "error",
     "traceback": [
      "\u001b[1;31m---------------------------------------------------------------------------\u001b[0m",
      "\u001b[1;31mModuleNotFoundError\u001b[0m                       Traceback (most recent call last)",
      "Cell \u001b[1;32mIn[4], line 1\u001b[0m\n\u001b[1;32m----> 1\u001b[0m \u001b[38;5;28;01mimport\u001b[39;00m \u001b[38;5;21;01mnumpy\u001b[39;00m \u001b[38;5;28;01mas\u001b[39;00m \u001b[38;5;21;01mnp\u001b[39;00m\n\u001b[0;32m      3\u001b[0m P \u001b[38;5;241m=\u001b[39m np\u001b[38;5;241m.\u001b[39mpi\n\u001b[0;32m      4\u001b[0m \u001b[38;5;28;01mdef\u001b[39;00m \u001b[38;5;21mTran\u001b[39m(d, theta, a, alpha):\n\u001b[0;32m      5\u001b[0m     \u001b[38;5;66;03m# from i to i-1\u001b[39;00m\n",
      "\u001b[1;31mModuleNotFoundError\u001b[0m: No module named 'numpy'"
     ]
    }
   ],
   "source": [
    "import numpy as np\n",
    "\n",
    "P = np.pi\n",
    "def Tran(d, theta, a, alpha):\n",
    "    # from i to i-1\n",
    "    return np.array([\n",
    "        [np.cos(theta), -np.sin(theta)*np.cos(alpha), np.sin(theta)*np.sin(alpha), a*np.cos(theta)],\n",
    "        [np.sin(theta), np.cos(theta)*np.cos(alpha), -np.cos(theta)*np.sin(alpha), a*np.sin(theta)],\n",
    "        [0,                 np.sin(alpha),             np.cos(alpha),                  d],\n",
    "        [0,                     0,                           0,                         1]\n",
    "    ])\n",
    "    \n",
    "def getcoords(T):\n",
    "    return T[0:3,3]/1000\n",
    "\n",
    "def getdegree(T):\n",
    "    R = T[0:3, 0:3]        \n",
    "    # roll 角 (绕 X 轴的旋转)\n",
    "    phi = np.arctan2(-R[1, 2], R[2, 2])\n",
    "    # pitch 角 (绕 Y' 轴的旋转)\n",
    "    theta = np.arcsin(R[0, 2])\n",
    "    # yaw 角 (绕 Z' 轴的旋转)\n",
    "    psi = np.arctan2(-R[0, 1], R[0, 0])\n",
    "    \n",
    "    # 转换为度\n",
    "    phi_deg = np.degrees(phi)\n",
    "    theta_deg = np.degrees(theta)\n",
    "    psi_deg = np.degrees(psi)\n",
    "    \n",
    "    return phi_deg, theta_deg, psi_deg\n",
    "\n",
    "\n",
    "def forward(t1, t2, t3, t4, t5, t6):\n",
    "    T_01 = Tran(230, t1, 0, -P/2)\n",
    "    T_12 = Tran(0, t2-P/2, 185, 0)\n",
    "    T_23 = Tran(0, t3, 170, 0)\n",
    "    T_34 = Tran(23, t4+P/2, 0, P/2)\n",
    "    T_45 = Tran(77, t5+P/2, 0, P/2)\n",
    "    T_56 = Tran(85.5, t6, 0, 0)\n",
    "    return T_01 @ T_12 @ T_23 @ T_34 @ T_45 @ T_56\n",
    "\n",
    "def printT(T):\n",
    "    # print(T)\n",
    "    print(getcoords(T))\n",
    "    print(getdegree(T))\n",
    "\n"
   ]
  },
  {
   "cell_type": "code",
   "execution_count": 5,
   "metadata": {},
   "outputs": [
    {
     "ename": "NameError",
     "evalue": "name 'forward' is not defined",
     "output_type": "error",
     "traceback": [
      "\u001b[1;31m---------------------------------------------------------------------------\u001b[0m",
      "\u001b[1;31mNameError\u001b[0m                                 Traceback (most recent call last)",
      "Cell \u001b[1;32mIn[5], line 1\u001b[0m\n\u001b[1;32m----> 1\u001b[0m T0 \u001b[38;5;241m=\u001b[39m \u001b[43mforward\u001b[49m(\u001b[38;5;241m0\u001b[39m, \u001b[38;5;241m0\u001b[39m, \u001b[38;5;241m0\u001b[39m, \u001b[38;5;241m0\u001b[39m, \u001b[38;5;241m0\u001b[39m, \u001b[38;5;241m0\u001b[39m)\n\u001b[0;32m      2\u001b[0m T1 \u001b[38;5;241m=\u001b[39m forward(P\u001b[38;5;241m/\u001b[39m\u001b[38;5;241m6\u001b[39m, \u001b[38;5;241m0\u001b[39m, P\u001b[38;5;241m/\u001b[39m\u001b[38;5;241m6\u001b[39m, \u001b[38;5;241m0\u001b[39m, P\u001b[38;5;241m/\u001b[39m\u001b[38;5;241m3\u001b[39m, \u001b[38;5;241m0\u001b[39m)\n\u001b[0;32m      3\u001b[0m T2 \u001b[38;5;241m=\u001b[39m forward(P\u001b[38;5;241m/\u001b[39m\u001b[38;5;241m6\u001b[39m, P\u001b[38;5;241m/\u001b[39m\u001b[38;5;241m6\u001b[39m, P\u001b[38;5;241m/\u001b[39m\u001b[38;5;241m3\u001b[39m, \u001b[38;5;241m0\u001b[39m, P\u001b[38;5;241m/\u001b[39m\u001b[38;5;241m3\u001b[39m, P\u001b[38;5;241m/\u001b[39m\u001b[38;5;241m6\u001b[39m)\n",
      "\u001b[1;31mNameError\u001b[0m: name 'forward' is not defined"
     ]
    }
   ],
   "source": [
    "\n",
    "T0 = forward(0, 0, 0, 0, 0, 0)\n",
    "T1 = forward(P/6, 0, P/6, 0, P/3, 0)\n",
    "T2 = forward(P/6, P/6, P/3, 0, P/3, P/6)\n",
    "T3 = forward(P/2, 0, P/2, -P/3, P/3, P/6)\n",
    "T4 = forward(-P/6, -P/6, -P/3, 0, P/12, P/2)\n",
    "T5 = forward(P/12, P/12, P/12, P/12, P/12, P/12)\n",
    "\n",
    "# 输出坐标和姿态角\n",
    "printT(T5)"
   ]
  },
  {
   "cell_type": "code",
   "execution_count": null,
   "metadata": {},
   "outputs": [],
   "source": []
  }
 ],
 "metadata": {
  "kernelspec": {
   "display_name": "coppeliasim",
   "language": "python",
   "name": "python3"
  },
  "language_info": {
   "codemirror_mode": {
    "name": "ipython",
    "version": 3
   },
   "file_extension": ".py",
   "mimetype": "text/x-python",
   "name": "python",
   "nbconvert_exporter": "python",
   "pygments_lexer": "ipython3",
   "version": "3.10.16"
  }
 },
 "nbformat": 4,
 "nbformat_minor": 2
}
